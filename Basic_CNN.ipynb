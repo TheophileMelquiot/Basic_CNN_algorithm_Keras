{
  "nbformat": 4,
  "nbformat_minor": 0,
  "metadata": {
    "colab": {
      "provenance": []
    },
    "kernelspec": {
      "name": "python3",
      "display_name": "Python 3"
    },
    "language_info": {
      "name": "python"
    }
  },
  "cells": [
    {
      "cell_type": "code",
      "execution_count": 3,
      "metadata": {
        "id": "o18i5eD6Q32u"
      },
      "outputs": [],
      "source": [
        "import numpy as np\n",
        "import pandas as pd\n",
        "\n",
        "from keras.models import Sequential\n",
        "from keras.layers import Dense,Activation,Layer,Lambda\n",
        "\n",
        "from sklearn.model_selection import train_test_split"
      ]
    },
    {
      "cell_type": "code",
      "source": [
        "dataset=pd.read_csv(\"UniversalBank.csv\")\n",
        "dataset.head()"
      ],
      "metadata": {
        "id": "GGzwKvcZRc9c"
      },
      "execution_count": null,
      "outputs": []
    },
    {
      "cell_type": "code",
      "source": [
        "#We don't need id column.\n",
        "dataset=dataset.drop([\"ID\"],axis=1)\n",
        "dataset.head()"
      ],
      "metadata": {
        "id": "LG12jhr1RqUH"
      },
      "execution_count": null,
      "outputs": []
    },
    {
      "cell_type": "code",
      "source": [
        "dataset.shape"
      ],
      "metadata": {
        "id": "hvd0YbJVR8Nu"
      },
      "execution_count": null,
      "outputs": []
    },
    {
      "cell_type": "code",
      "source": [
        "pd.isnull(dataset).sum()"
      ],
      "metadata": {
        "id": "RXpVM_n0R_pf"
      },
      "execution_count": null,
      "outputs": []
    },
    {
      "cell_type": "code",
      "source": [
        "#mapping function to map different string objects to integer, if you have an string column the output will be an integers\n",
        "def mapping(data,feature):\n",
        "    featureMap=dict()\n",
        "    count=0\n",
        "    for i in sorted(data[feature].unique(),reverse=True):\n",
        "        featureMap[i]=count\n",
        "        count=count+1\n",
        "    data[feature]=data[feature].map(featureMap)\n",
        "    return data\n",
        "\n",
        "dataset=mapping(dataset,feature=\"Age\")\n",
        "\n",
        "#not useful in this dataset"
      ],
      "metadata": {
        "id": "XZ5JBPGBSTTC"
      },
      "execution_count": 13,
      "outputs": []
    },
    {
      "cell_type": "code",
      "source": [
        "dataset = dataset.astype(np.int32)\n",
        "dataset['CCAvg'] = dataset['CCAvg'].astype(np.float32)\n",
        "\n",
        "dataset.info()"
      ],
      "metadata": {
        "id": "fpoIocgSaI_W"
      },
      "execution_count": null,
      "outputs": []
    },
    {
      "cell_type": "code",
      "source": [
        "def mapping_clas(dataset):\n",
        "    # Créer une nouvelle colonne \"Age_Category\" en fonction de l'âge\n",
        "    dataset['Age_Category'] = pd.cut(dataset['Age'], bins=[0, 18, 30, 50, np.inf], labels=['Enfant', 'Jeune', 'Adulte', 'Senior'])\n",
        "    return dataset\n",
        "\n",
        "# Utilisation de la fonction de mapping pour créer une nouvelle fonctionnalité\n",
        "mapping_clas(dataset)\n",
        "#useless for now\n",
        "dataset =dataset.drop([\"Age_Category\"],axis=1)\n",
        "\n"
      ],
      "metadata": {
        "id": "fifTdl9VSaHy"
      },
      "execution_count": 34,
      "outputs": []
    },
    {
      "cell_type": "code",
      "source": [
        "dataset.sample(5)"
      ],
      "metadata": {
        "id": "mm7btvfpShof"
      },
      "execution_count": null,
      "outputs": []
    },
    {
      "cell_type": "code",
      "source": [
        "dataset.info()"
      ],
      "metadata": {
        "id": "-kC_LyNuYsot"
      },
      "execution_count": null,
      "outputs": []
    },
    {
      "cell_type": "code",
      "source": [
        "X=dataset.drop([\"Personal Loan\"],axis=1)\n",
        "y=dataset[\"Personal Loan\"]\n",
        "\n",
        "trainX, testX, trainY, testY = train_test_split(X, y, test_size=0.1, random_state=42)\n",
        "trainX, valX, trainY, valY = train_test_split(trainX, trainY, test_size=0.2, random_state=42)"
      ],
      "metadata": {
        "id": "oeRoXn2xT5QD"
      },
      "execution_count": 37,
      "outputs": []
    },
    {
      "cell_type": "code",
      "source": [
        "def getModel(arr):\n",
        "    model=Sequential()\n",
        "    for i in range(len(arr)):\n",
        "        if i!=0 and i!=len(arr)-1:\n",
        "            if i==1:\n",
        "                model.add(Dense(arr[i],input_dim=arr[0],kernel_initializer='normal', activation='relu'))\n",
        "            else:\n",
        "                model.add(Dense(arr[i],activation='relu'))\n",
        "    model.add(Dense(arr[-1],kernel_initializer='normal',activation=\"sigmoid\"))\n",
        "    model.compile(loss=\"binary_crossentropy\",optimizer='rmsprop',metrics=['accuracy'])\n",
        "    return model"
      ],
      "metadata": {
        "id": "zDZI5o1VWoLn"
      },
      "execution_count": 38,
      "outputs": []
    },
    {
      "cell_type": "code",
      "source": [
        "import keras\n",
        "import matplotlib.pyplot as plt\n",
        "from IPython.display import clear_output\n",
        "class PlotLosses(keras.callbacks.Callback):\n",
        "    def on_train_begin(self, logs={}):\n",
        "        self.i = 0\n",
        "        self.x = []\n",
        "        self.losses = []\n",
        "        self.val_losses = []\n",
        "\n",
        "        self.fig = plt.figure()\n",
        "\n",
        "        self.logs = []\n",
        "\n",
        "    def on_epoch_end(self, epoch, logs={}):\n",
        "\n",
        "        self.logs.append(logs)\n",
        "        self.x.append(self.i)\n",
        "        self.losses.append(logs.get('loss'))\n",
        "        self.val_losses.append(logs.get('val_loss'))\n",
        "        self.i += 1\n",
        "        clear_output(wait=True)\n",
        "        plt.plot(self.x, self.losses, label=\"loss\")\n",
        "        plt.legend()\n",
        "        plt.show();\n",
        "\n",
        "plot_losses = PlotLosses()"
      ],
      "metadata": {
        "id": "-kmOAqOrXfIR"
      },
      "execution_count": 49,
      "outputs": []
    },
    {
      "cell_type": "code",
      "source": [
        "firstModel=getModel([12,50,1])\n",
        "#divide into 3 layer, first hidden layer with 12 neuron, second layer 50 neurons and the last one is the output layer with one\n",
        "\n",
        "firstModel.fit(np.array(trainX),np.array(trainY),epochs=40,callbacks=[plot_losses])\n",
        "#we got a graph that show to us the loss of our models\n",
        "scores=firstModel.evaluate(np.array(valX),np.array(valY))\n",
        "print(\"Loss:\",scores[0])\n",
        "print(\"Accuracy\",scores[1]*100)\n"
      ],
      "metadata": {
        "colab": {
          "base_uri": "https://localhost:8080/",
          "height": 499
        },
        "id": "fCuqLm8FXlVJ",
        "outputId": "7e2b6457-9d47-42ee-eba3-96666c51acfd"
      },
      "execution_count": 59,
      "outputs": [
        {
          "output_type": "display_data",
          "data": {
            "text/plain": [
              "<Figure size 640x480 with 1 Axes>"
            ],
            "image/png": "[encoded data removed]"
          },
          "metadata": {}
        },
        {
          "output_type": "stream",
          "name": "stdout",
          "text": [
            "113/113 [==============================] - 0s 4ms/step - loss: 2.2528 - accuracy: 0.8422\n",
            "29/29 [==============================] - 0s 3ms/step - loss: 2.7276 - accuracy: 0.9067\n",
            "Loss: 2.7275900840759277\n",
            "Accuracy 90.66666960716248\n"
          ]
        }
      ]
    },
    {
      "cell_type": "code",
      "source": [
        "SecondModel=getModel([12,50,70,40,1])\n",
        "SecondModel.fit(np.array(trainX),np.array(trainY),epochs=100,callbacks=[plot_losses])\n",
        "\n",
        "scores=SecondModel.evaluate(np.array(valX),np.array(valY))\n",
        "print(\"Loss:\",scores[0])\n",
        "print(\"Accuracy\",scores[1]*100)\n"
      ],
      "metadata": {
        "id": "H8xhQvn5bd6v"
      },
      "execution_count": null,
      "outputs": []
    },
    {
      "cell_type": "code",
      "source": [
        "ThirdModel=getModel([12,500,500,500,1])\n",
        "ThirdModel.fit(np.array(trainX),np.array(trainY),epochs=100,callbacks=[plot_losses])\n",
        "\n",
        "scores=ThirdModel.evaluate(np.array(valX),np.array(valY))\n",
        "print(\"Loss:\",scores[0])\n",
        "print(\"Accuracy\",scores[1]*100)"
      ],
      "metadata": {
        "id": "Qh1Q6coNe70n"
      },
      "execution_count": null,
      "outputs": []
    },
    {
      "cell_type": "code",
      "source": [
        "predY=firstModel.predict(np.array(testX))\n",
        "predY=np.round(predY).astype(int).reshape(1,-1)[0]"
      ],
      "metadata": {
        "colab": {
          "base_uri": "https://localhost:8080/"
        },
        "id": "-Q8rtMPsgYV-",
        "outputId": "1d13623a-157a-4111-dd74-6668c835f798"
      },
      "execution_count": 57,
      "outputs": [
        {
          "output_type": "stream",
          "name": "stdout",
          "text": [
            "16/16 [==============================] - 0s 3ms/step\n"
          ]
        }
      ]
    },
    {
      "cell_type": "code",
      "source": [
        "from sklearn.metrics import confusion_matrix\n",
        "m=confusion_matrix(predY,testY)\n",
        "tn, fn, fp, tp=confusion_matrix(predY,testY).ravel()\n",
        "m=pd.crosstab(predY,testY)\n",
        "print(\"Confusion matrix\")\n",
        "print(m)\n"
      ],
      "metadata": {
        "colab": {
          "base_uri": "https://localhost:8080/"
        },
        "id": "puo5INutgaoE",
        "outputId": "54833562-07ef-4fee-be4c-bd2abbc96b71"
      },
      "execution_count": 58,
      "outputs": [
        {
          "output_type": "stream",
          "name": "stdout",
          "text": [
            "Confusion matrix\n",
            "Personal Loan    0   1\n",
            "row_0                 \n",
            "0              446  52\n",
            "1                0   2\n"
          ]
        }
      ]
    }
  ]
}